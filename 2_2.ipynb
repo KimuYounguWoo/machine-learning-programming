{
  "nbformat": 4,
  "nbformat_minor": 0,
  "metadata": {
    "colab": {
      "provenance": [],
      "authorship_tag": "ABX9TyNDGNaxyzppvd9u2KwzhSb1",
      "include_colab_link": true
    },
    "kernelspec": {
      "name": "python3",
      "display_name": "Python 3"
    },
    "language_info": {
      "name": "python"
    }
  },
  "cells": [
    {
      "cell_type": "markdown",
      "metadata": {
        "id": "view-in-github",
        "colab_type": "text"
      },
      "source": [
        "<a href=\"https://colab.research.google.com/github/KimuYounguWoo/machine-learning-programming/blob/main/2_2.ipynb\" target=\"_parent\"><img src=\"https://colab.research.google.com/assets/colab-badge.svg\" alt=\"Open In Colab\"/></a>"
      ]
    },
    {
      "cell_type": "markdown",
      "source": [
        "학습할 데이터 입력"
      ],
      "metadata": {
        "id": "CFPwvoeoN9dK"
      }
    },
    {
      "cell_type": "code",
      "execution_count": null,
      "metadata": {
        "id": "7i-YEhcg_a9_"
      },
      "outputs": [],
      "source": [
        "# 학습할 데이터 세트 가져오기\n",
        "fish_length = [25.4, 26.3, 26.5, 29.0, 29.0, 29.7, 29.7, 30.0, 30.0, 30.7, 31.0, 31.0,\n",
        "                31.5, 32.0, 32.0, 32.0, 33.0, 33.0, 33.5, 33.5, 34.0, 34.0, 34.5, 35.0,\n",
        "                35.0, 35.0, 35.0, 36.0, 36.0, 37.0, 38.5, 38.5, 39.5, 41.0, 41.0, 9.8,\n",
        "                10.5, 10.6, 11.0, 11.2, 11.3, 11.8, 11.8, 12.0, 12.2, 12.4, 13.0, 14.3, 15.0]\n",
        "fish_weight = [242.0, 290.0, 340.0, 363.0, 430.0, 450.0, 500.0, 390.0, 450.0, 500.0, 475.0, 500.0,\n",
        "                500.0, 340.0, 600.0, 600.0, 700.0, 700.0, 610.0, 650.0, 575.0, 685.0, 620.0, 680.0,\n",
        "                700.0, 725.0, 720.0, 714.0, 850.0, 1000.0, 920.0, 955.0, 925.0, 975.0, 950.0, 6.7,\n",
        "                7.5, 7.0, 9.7, 9.8, 8.7, 10.0, 9.9, 9.8, 12.2, 13.4, 12.2, 19.7, 19.9]"
      ]
    },
    {
      "cell_type": "markdown",
      "source": [
        "#### List vs Tuple\n",
        "List는 동적인 배열로 수정이 가능\n",
        "하지만 Tuple은 정적인 배열로 생성되는 순간, 배열의 크기나 데이터를 변경할 수 없음.\n",
        "대신, 튜플은 사용시마다, 메모리를 요청하지 않아도 됨."
      ],
      "metadata": {
        "id": "wMvSvey2OAW-"
      }
    },
    {
      "cell_type": "code",
      "source": [
        "p =  [[1, 2, 3], [4, 5, 6]]\n",
        "print(p)\n",
        "print(p[0])\n",
        "print(p[0][0])\n",
        "\n",
        "p[0][0] = 5\n",
        "print(p)\n",
        "print(p[0])\n",
        "print(p[0][0])"
      ],
      "metadata": {
        "colab": {
          "base_uri": "https://localhost:8080/"
        },
        "id": "fvxP4AAcAL3L",
        "outputId": "f96633a4-37a9-46b6-f4f6-29a7d686876f"
      },
      "execution_count": null,
      "outputs": [
        {
          "output_type": "stream",
          "name": "stdout",
          "text": [
            "[[1, 2, 3], [4, 5, 6]]\n",
            "[1, 2, 3]\n",
            "1\n",
            "[[5, 2, 3], [4, 5, 6]]\n",
            "[5, 2, 3]\n",
            "5\n"
          ]
        }
      ]
    },
    {
      "cell_type": "code",
      "source": [
        "q = [(1, 2, 3), (4, 5, 6)]\n",
        "print(q)\n",
        "print(q[0])\n",
        "print(q[0][0])\n",
        "\n",
        "# q[0][0] = 5\n",
        "# 오류를 발생 -> 튜플은 수정이 불가능하기 때문"
      ],
      "metadata": {
        "colab": {
          "base_uri": "https://localhost:8080/"
        },
        "id": "OD1IhK9GOfv4",
        "outputId": "03fb910c-8140-4647-d991-9664c35cc8f8"
      },
      "execution_count": null,
      "outputs": [
        {
          "output_type": "stream",
          "name": "stdout",
          "text": [
            "[(1, 2, 3), (4, 5, 6)]\n",
            "(1, 2, 3)\n",
            "1\n"
          ]
        }
      ]
    },
    {
      "cell_type": "markdown",
      "source": [
        "#### 벡터를 열 벡터로 연결하는 방법\n",
        "1. column_stack <Br>\n",
        "1차원 벡터를 열벡터로 인식하여 연결하는 방식<br>\n",
        "[1,2,3]<br>+<br>[4,5,6]<br>=<br>\n",
        "[[1, 4]<Br>\n",
        "  [2, 5]<br>\n",
        "  [3, 6]]\n",
        "\n",
        "2. concatenate <br>\n",
        "axis를 설정해, 축을 기준으로 연결해준다.<BR><Br>\n",
        "[1,2,3] + [4,5,6] -concatenate-> axis = 0 <BR>\n",
        "[1, 2, 3, 4, 5, 6]<Br>\n",
        "aixs = 1인 경우 (2차원)<Br>\n",
        "a = [[1, 2, 3], [10, 20, 30]]<Br>\n",
        "b = [[4, 5, 6], [40, 50, 60]]<br>\n",
        "c = np.concatenate((a, b), axis = 0)<br>\n",
        "[[ 1  2  3]\n",
        " [10 20 30]\n",
        " [ 4  5  6]\n",
        " [40 50 60]]<br>\n",
        "c = np.concatenate((a, b), axis = 1)<br>\n",
        "[[ 1  2  3  4  5  6]\n",
        " [10 20 30 40 50 60]]"
      ],
      "metadata": {
        "id": "qX8hEozFPt7L"
      }
    },
    {
      "cell_type": "code",
      "source": [
        "import numpy as np\n",
        "\n",
        "np.column_stack(([1, 2, 3], [4, 5, 6]))\n",
        "# list to array\n",
        "\n",
        "fish_data = np.column_stack((fish_length, fish_weight))\n",
        "# fish list -> fish array\n",
        "\n",
        "fish_target = np.concatenate((np.ones(35), np.zeros(14)))\n",
        "# np array를 연결\n",
        "# axis = 0이 기본값\n",
        "# 그러므로 np.ones(35) 다음 인덱스에 np.zeros(14)가 연결된다.\n",
        "\n",
        "\n",
        "print(\"np.ones(35): \", np.ones(35))\n",
        "print(\"np.zeros(14): \", np.zeros(14))\n",
        "print(\"fish_target: \", fish_target)\n",
        "\n",
        "a = np.array([[1, 2, 3], [10, 20, 30]])\n",
        "b = np.array([[4, 5, 6], [40, 50, 60]])\n",
        "\n",
        "c = np.concatenate((a, b), axis = 0)\n",
        "# default axis=0 이므로, 생략해도 상관 없음.\n",
        "print(\"axis=0인 경우: \\n\", c)\n",
        "\n",
        "c = np.concatenate((a, b), axis = 1)\n",
        "print(\"axis=1인 경우: \\n\", c)\n",
        "\n"
      ],
      "metadata": {
        "colab": {
          "base_uri": "https://localhost:8080/"
        },
        "id": "me7uj_qC_uBN",
        "outputId": "9499d0ba-4b41-417b-8d5c-3bc69b215275"
      },
      "execution_count": null,
      "outputs": [
        {
          "output_type": "stream",
          "name": "stdout",
          "text": [
            "np.ones(35):  [1. 1. 1. 1. 1. 1. 1. 1. 1. 1. 1. 1. 1. 1. 1. 1. 1. 1. 1. 1. 1. 1. 1. 1.\n",
            " 1. 1. 1. 1. 1. 1. 1. 1. 1. 1. 1.]\n",
            "np.zeros(14):  [0. 0. 0. 0. 0. 0. 0. 0. 0. 0. 0. 0. 0. 0.]\n",
            "fish_target:  [1. 1. 1. 1. 1. 1. 1. 1. 1. 1. 1. 1. 1. 1. 1. 1. 1. 1. 1. 1. 1. 1. 1. 1.\n",
            " 1. 1. 1. 1. 1. 1. 1. 1. 1. 1. 1. 0. 0. 0. 0. 0. 0. 0. 0. 0. 0. 0. 0. 0.\n",
            " 0.]\n",
            "axis=0인 경우: \n",
            " [[ 1  2  3]\n",
            " [10 20 30]\n",
            " [ 4  5  6]\n",
            " [40 50 60]]\n",
            "axis=1인 경우: \n",
            " [[ 1  2  3  4  5  6]\n",
            " [10 20 30 40 50 60]]\n"
          ]
        }
      ]
    },
    {
      "cell_type": "code",
      "source": [
        "from sklearn.model_selection import train_test_split"
      ],
      "metadata": {
        "id": "PhtEMhQLC9o8"
      },
      "execution_count": null,
      "outputs": []
    },
    {
      "cell_type": "markdown",
      "source": [
        "train_test_split(<Br>\n",
        "  arrays, -> 분할할 데이터세트<Br>\n",
        "  test_size, -> 테스트 데이터의 비율 (defualt: 0.25)<Br>\n",
        "  train_size, -> 학습 데이터의 비율 (default: 1-test_size)<Br>\n",
        "  random_state, -> (셔플을 할 경우) 시드<Br>\n",
        "  shuffle, -> 셔플을 할 것인지 <Br>\n",
        "  stratify -> 분할한 데이터의 비율을 동일하게 유지할 데이터세트의 라벨 <Br>\n",
        "  )\n"
      ],
      "metadata": {
        "id": "7SQtXdfjScBL"
      }
    },
    {
      "cell_type": "code",
      "source": [
        "print(\"data shape: \", fish_data.shape)\n",
        "print(\"target shape: \", fish_target.shape)\n",
        "train_input, test_input, train_target, test_target = train_test_split(\n",
        "    fish_data,\n",
        "    fish_target,\n",
        "    random_state=42\n",
        "    )\n",
        "# fish_data와 fish_target을 42 seed를 이용해, 훈련, 검증, 테스트로 분류한다.\n",
        "# 테스트: 25% / 학습: 75%"
      ],
      "metadata": {
        "colab": {
          "base_uri": "https://localhost:8080/"
        },
        "id": "hOEa7XjAC_5P",
        "outputId": "b2f9bc53-fa7c-48b4-f7a4-3153124e8fa8"
      },
      "execution_count": null,
      "outputs": [
        {
          "output_type": "stream",
          "name": "stdout",
          "text": [
            "data shape:  (49, 2)\n",
            "target shape:  (49,)\n"
          ]
        }
      ]
    },
    {
      "cell_type": "code",
      "source": [
        "print(train_input.shape, test_input.shape)\n",
        "# 대략 3:1로 분할이 잘 되었음"
      ],
      "metadata": {
        "colab": {
          "base_uri": "https://localhost:8080/"
        },
        "id": "OncP93CvD04G",
        "outputId": "7ca2d782-1dbb-440c-b390-3ef3a47ca22b"
      },
      "execution_count": null,
      "outputs": [
        {
          "output_type": "stream",
          "name": "stdout",
          "text": [
            "(36, 2) (13, 2)\n"
          ]
        }
      ]
    },
    {
      "cell_type": "code",
      "source": [
        "print(test_target)"
      ],
      "metadata": {
        "colab": {
          "base_uri": "https://localhost:8080/"
        },
        "id": "FldxoJzED2yE",
        "outputId": "8a970451-1ea5-4e4d-cfc4-f3824dbf1605"
      },
      "execution_count": null,
      "outputs": [
        {
          "output_type": "stream",
          "name": "stdout",
          "text": [
            "[1. 0. 0. 0. 1. 1. 1. 1. 1. 1. 1. 1. 1.]\n"
          ]
        }
      ]
    },
    {
      "cell_type": "code",
      "source": [
        "train_input, test_input, train_target, test_target = train_test_split(\n",
        "    fish_data,\n",
        "    fish_target,\n",
        "    stratify=fish_target,\n",
        "    random_state=42\n",
        "    )\n",
        "# fish_data와 fish_target을 42 seed를 이용해, 훈련, 검증, 테스트로 분류한다 (단, 비율은 fish_target과 동일하게 유지).\n",
        "\n",
        "print(test_target)"
      ],
      "metadata": {
        "colab": {
          "base_uri": "https://localhost:8080/"
        },
        "id": "Za4W4NjwD4W1",
        "outputId": "075491c5-5c39-45c4-baf7-c7af929698f3"
      },
      "execution_count": null,
      "outputs": [
        {
          "output_type": "stream",
          "name": "stdout",
          "text": [
            "[0. 0. 1. 0. 1. 0. 1. 1. 1. 1. 1. 1. 1.]\n"
          ]
        }
      ]
    },
    {
      "cell_type": "code",
      "source": [
        "from sklearn.neighbors import KNeighborsClassifier\n",
        "\n",
        "kn = KNeighborsClassifier()\n",
        "kn.fit(train_input, train_target)\n",
        "kn.score(test_input, test_target)\n",
        "# K-최근접 이웃 알고리즘을 이용하여, 분류 정확도를 확인"
      ],
      "metadata": {
        "colab": {
          "base_uri": "https://localhost:8080/"
        },
        "id": "1tIm_RV5ESjb",
        "outputId": "b9ec5793-f152-4941-938a-9bd27252405f"
      },
      "execution_count": null,
      "outputs": [
        {
          "output_type": "execute_result",
          "data": {
            "text/plain": [
              "1.0"
            ]
          },
          "metadata": {},
          "execution_count": 60
        }
      ]
    },
    {
      "cell_type": "code",
      "source": [
        "print(kn.predict([[25, 150]]))\n",
        "# 임의의 데이터 [25, 150]을 예측\n",
        "# 도미의 데이터와 유사하지만, 정규화를 하지 않아서, 빙어로 예측"
      ],
      "metadata": {
        "colab": {
          "base_uri": "https://localhost:8080/"
        },
        "id": "Kf6XBgY-Ec0w",
        "outputId": "0f166eed-dbc9-4447-d5fd-09e4e63c8dca"
      },
      "execution_count": null,
      "outputs": [
        {
          "output_type": "stream",
          "name": "stdout",
          "text": [
            "[0.]\n"
          ]
        }
      ]
    },
    {
      "cell_type": "code",
      "source": [
        "import matplotlib.pyplot as plt\n",
        "\n",
        "plt.scatter(train_input[:,0], train_input[:,1])\n",
        "plt.scatter(25, 150, marker='^')\n",
        "plt.xlabel('length')\n",
        "plt.ylabel('weight')\n",
        "plt.show()"
      ],
      "metadata": {
        "colab": {
          "base_uri": "https://localhost:8080/",
          "height": 449
        },
        "id": "O2kxQ20KEl4F",
        "outputId": "520cf766-e07e-4ec4-b9c5-61e594549818"
      },
      "execution_count": null,
      "outputs": [
        {
          "output_type": "display_data",
          "data": {
            "text/plain": [
              "<Figure size 640x480 with 1 Axes>"
            ],
            "image/png": "[encoded data removed]"
          },
          "metadata": {}
        }
      ]
    },
    {
      "cell_type": "markdown",
      "source": [
        "위의 산점도를 보아도, 도미라고 판단해도 무방하다.\n",
        "<br>\n",
        "이런 일이 일어나는 이유를 알아보기 위해, 샘플에서 가장 가운 이웃을 산점도로 표현해보자"
      ],
      "metadata": {
        "id": "FkqFQ9-eT9F4"
      }
    },
    {
      "cell_type": "code",
      "source": [
        "distances, indexes = kn.kneighbors([[25, 150]])\n",
        "# 주어진 샘플에서 가장 가까운 이웃을 찾는다. (default: 5)\n",
        "# distances -> 샘플에서 가까운 이웃과 샘플과의 거리\n",
        "# indexes -> 그 이웃의 인덱스\n",
        "print(kn.kneighbors([[25, 150]]))\n"
      ],
      "metadata": {
        "colab": {
          "base_uri": "https://localhost:8080/"
        },
        "id": "FPoB7Tk1Go6P",
        "outputId": "049acfef-6c63-4a67-8b24-1308af9ba445"
      },
      "execution_count": null,
      "outputs": [
        {
          "output_type": "stream",
          "name": "stdout",
          "text": [
            "(array([[ 92.00086956, 130.48375378, 130.73859415, 138.32150953,\n",
            "        138.39320793]]), array([[21, 33, 19, 30,  1]]))\n",
            "[[242.   19.9  19.7  12.2  12.2]]\n",
            "[[25.4 15.  14.3 13.  12.2]]\n"
          ]
        }
      ]
    },
    {
      "cell_type": "code",
      "source": [
        "plt.scatter(train_input[:,0], train_input[:,1])\n",
        "plt.scatter(25, 150, marker='^')\n",
        "plt.scatter(train_input[indexes,0], train_input[indexes,1], marker='D')\n",
        "# 이웃들을 다이아몬드 마커로 표시\n",
        "plt.xlabel('length')\n",
        "plt.ylabel('weight')\n",
        "plt.show()"
      ],
      "metadata": {
        "colab": {
          "base_uri": "https://localhost:8080/",
          "height": 449
        },
        "id": "cTfpNzjDG5O4",
        "outputId": "38d6c607-e03b-4a2d-9bfb-5ead4ef802fd"
      },
      "execution_count": null,
      "outputs": [
        {
          "output_type": "display_data",
          "data": {
            "text/plain": [
              "<Figure size 640x480 with 1 Axes>"
            ],
            "image/png": "[encoded data removed]"
          },
          "metadata": {}
        }
      ]
    },
    {
      "cell_type": "code",
      "source": [
        "print(train_input[indexes])\n",
        "# 이웃들의 무게와 길이"
      ],
      "metadata": {
        "colab": {
          "base_uri": "https://localhost:8080/"
        },
        "id": "Y6gBLhZFG5dq",
        "outputId": "703de2af-3149-4767-8fc1-2f98e3bc2ef5"
      },
      "execution_count": null,
      "outputs": [
        {
          "output_type": "stream",
          "name": "stdout",
          "text": [
            "[[[ 25.4 242. ]\n",
            "  [ 15.   19.9]\n",
            "  [ 14.3  19.7]\n",
            "  [ 13.   12.2]\n",
            "  [ 12.2  12.2]]]\n"
          ]
        }
      ]
    },
    {
      "cell_type": "code",
      "source": [
        "print(train_target[indexes])\n",
        "# 이웃들이 빙어인지 도미인지 확인"
      ],
      "metadata": {
        "colab": {
          "base_uri": "https://localhost:8080/"
        },
        "id": "Ft9RXVhoNeVs",
        "outputId": "0d22b4f7-3512-4772-9a17-d2e1606804dd"
      },
      "execution_count": null,
      "outputs": [
        {
          "output_type": "stream",
          "name": "stdout",
          "text": [
            "[[1. 0. 0. 0. 0.]]\n"
          ]
        }
      ]
    },
    {
      "cell_type": "code",
      "source": [
        "print(distances)\n",
        "# 이웃과 샘플 사이의 거리\n",
        "# 그래프와 달리, 거리가 크게 차이나지 않는다."
      ],
      "metadata": {
        "colab": {
          "base_uri": "https://localhost:8080/"
        },
        "id": "N_-R-2tsNiu1",
        "outputId": "1a30a4b6-8c5b-4479-b8d9-7fea741cab6c"
      },
      "execution_count": null,
      "outputs": [
        {
          "output_type": "stream",
          "name": "stdout",
          "text": [
            "[[ 92.00086956 130.48375378 130.73859415 138.32150953 138.39320793]]\n"
          ]
        }
      ]
    },
    {
      "cell_type": "markdown",
      "source": [
        "기본값이 5개의 이웃을 표현하면, 빙어들의 거리가 멀리 있지만, 도미는 하나, 빙어는 총 4개가 나타난다.<br>\n",
        "하지만 위에서 받은 거리와 비교하면 그래프가 이상하게 나오는데, 이는 x축과 y축의 범위가 다르기 때문이다.\n",
        "이를 해결하기 위해 xlim, ylim을 사용하여 다시 그려보자"
      ],
      "metadata": {
        "id": "-mDilp8pU9qC"
      }
    },
    {
      "cell_type": "code",
      "source": [
        "plt.scatter(train_input[:,0], train_input[:,1])\n",
        "plt.scatter(25, 150, marker='^')\n",
        "plt.scatter(train_input[indexes, 0], train_input[indexes, 1], marker='D')\n",
        "plt.xlim((0, 1000))\n",
        "# x축을 0 ~ 1000으로 수정한다.\n",
        "plt.xlabel('length')\n",
        "plt.ylabel('weight')\n",
        "plt.show()"
      ],
      "metadata": {
        "colab": {
          "base_uri": "https://localhost:8080/",
          "height": 449
        },
        "id": "qPia4P4aVESM",
        "outputId": "6e365dd4-991f-4e28-a4fd-a89d6bddd36b"
      },
      "execution_count": null,
      "outputs": [
        {
          "output_type": "display_data",
          "data": {
            "text/plain": [
              "<Figure size 640x480 with 1 Axes>"
            ],
            "image/png": "[encoded data removed]"
          },
          "metadata": {}
        }
      ]
    },
    {
      "cell_type": "markdown",
      "source": [
        "이렇게 거리 기반 알고리즘을 사용할 때, 데이터를 표현하는 기준이 다르면 올바른 예측이 불가하다.<br>\n",
        "그렇기에, 데이터 전처리를 위하여 정규화를 해준다.<br>\n",
        "이번엔 z-표준화로 평균으로부터 몇 표준편차만큼 떨어져있는지로 정규화를 하겠다."
      ],
      "metadata": {
        "id": "i8A4N7EeVOCa"
      }
    },
    {
      "cell_type": "code",
      "source": [
        "mean = np.mean(train_input, axis=0)\n",
        "std = np.std(train_input, axis=0)\n",
        "print(mean, std)\n",
        "# 평균 / 표준 편차\n"
      ],
      "metadata": {
        "colab": {
          "base_uri": "https://localhost:8080/"
        },
        "id": "J5mtJVYBVMOO",
        "outputId": "fb8b65dd-78a6-4ea7-e185-9291654bc6e8"
      },
      "execution_count": null,
      "outputs": [
        {
          "output_type": "stream",
          "name": "stdout",
          "text": [
            "[ 26.175      418.08888889] [ 10.21073441 321.67847023]\n"
          ]
        }
      ]
    },
    {
      "cell_type": "code",
      "source": [
        "train_scaled = (train_input - mean) / std\n",
        "# z-표준화를 통해, 현재 데이터를 전처리해준다."
      ],
      "metadata": {
        "id": "D6CqgpNgVysW"
      },
      "execution_count": null,
      "outputs": []
    },
    {
      "cell_type": "code",
      "source": [
        "\n",
        "plt.scatter(train_scaled[:,0], train_scaled[:,1])\n",
        "plt.scatter(25, 150, marker='^')\n",
        "plt.title(\"new data\")\n",
        "plt.xlabel('length')\n",
        "plt.ylabel('weight')\n",
        "plt.show()"
      ],
      "metadata": {
        "colab": {
          "base_uri": "https://localhost:8080/",
          "height": 822
        },
        "id": "ULc2F8IsV8-P",
        "outputId": "5fa51b2e-82d7-4620-a819-8a37fb654e2f"
      },
      "execution_count": null,
      "outputs": [
        {
          "output_type": "stream",
          "name": "stderr",
          "text": [
            "/usr/local/lib/python3.10/dist-packages/IPython/core/pylabtools.py:151: UserWarning: Glyph 51204 (\\N{HANGUL SYLLABLE JEON}) missing from current font.\n",
            "  fig.canvas.print_figure(bytes_io, **kw)\n",
            "/usr/local/lib/python3.10/dist-packages/IPython/core/pylabtools.py:151: UserWarning: Glyph 52376 (\\N{HANGUL SYLLABLE CEO}) missing from current font.\n",
            "  fig.canvas.print_figure(bytes_io, **kw)\n",
            "/usr/local/lib/python3.10/dist-packages/IPython/core/pylabtools.py:151: UserWarning: Glyph 47532 (\\N{HANGUL SYLLABLE RI}) missing from current font.\n",
            "  fig.canvas.print_figure(bytes_io, **kw)\n",
            "/usr/local/lib/python3.10/dist-packages/IPython/core/pylabtools.py:151: UserWarning: Glyph 45936 (\\N{HANGUL SYLLABLE DE}) missing from current font.\n",
            "  fig.canvas.print_figure(bytes_io, **kw)\n",
            "/usr/local/lib/python3.10/dist-packages/IPython/core/pylabtools.py:151: UserWarning: Glyph 51060 (\\N{HANGUL SYLLABLE I}) missing from current font.\n",
            "  fig.canvas.print_figure(bytes_io, **kw)\n",
            "/usr/local/lib/python3.10/dist-packages/IPython/core/pylabtools.py:151: UserWarning: Glyph 53552 (\\N{HANGUL SYLLABLE TEO}) missing from current font.\n",
            "  fig.canvas.print_figure(bytes_io, **kw)\n",
            "/usr/local/lib/python3.10/dist-packages/IPython/core/pylabtools.py:151: UserWarning: Glyph 47196 (\\N{HANGUL SYLLABLE RO}) missing from current font.\n",
            "  fig.canvas.print_figure(bytes_io, **kw)\n",
            "/usr/local/lib/python3.10/dist-packages/IPython/core/pylabtools.py:151: UserWarning: Glyph 54984 (\\N{HANGUL SYLLABLE HUN}) missing from current font.\n",
            "  fig.canvas.print_figure(bytes_io, **kw)\n",
            "/usr/local/lib/python3.10/dist-packages/IPython/core/pylabtools.py:151: UserWarning: Glyph 47144 (\\N{HANGUL SYLLABLE RYEON}) missing from current font.\n",
            "  fig.canvas.print_figure(bytes_io, **kw)\n"
          ]
        },
        {
          "output_type": "display_data",
          "data": {
            "text/plain": [
              "<Figure size 640x480 with 1 Axes>"
            ],
            "image/png": "[encoded data removed]"
          },
          "metadata": {}
        }
      ]
    },
    {
      "cell_type": "code",
      "source": [
        "plt.scatter(train_scaled[:,0], train_scaled[:,1])\n",
        "plt.scatter(new[0], new[1], marker='^')\n",
        "plt.title(\"new data and sample\")\n",
        "plt.xlabel('length')\n",
        "plt.ylabel('weight')\n",
        "plt.show()"
      ],
      "metadata": {
        "colab": {
          "base_uri": "https://localhost:8080/",
          "height": 472
        },
        "id": "FqjeRNM7WLnF",
        "outputId": "53eeba0d-5f78-4d2a-f108-ddfa758c960e"
      },
      "execution_count": null,
      "outputs": [
        {
          "output_type": "display_data",
          "data": {
            "text/plain": [
              "<Figure size 640x480 with 1 Axes>"
            ],
            "image/png": "[encoded data removed]"
          },
          "metadata": {}
        }
      ]
    },
    {
      "cell_type": "code",
      "source": [
        "# 산점도가 제대로 표현된다.\n",
        "# 이 데이터로 다시 학습을 진행한다.\n",
        "kn.fit(train_scaled, train_target)\n",
        "test_scaled = (test_input - mean) / std\n",
        "kn.score(test_scaled, test_target)\n",
        "print(kn.predict([new]))"
      ],
      "metadata": {
        "colab": {
          "base_uri": "https://localhost:8080/"
        },
        "id": "3xd6EifmWlw6",
        "outputId": "292394e1-4ed6-4a31-8d0e-3784258b10f8"
      },
      "execution_count": null,
      "outputs": [
        {
          "output_type": "stream",
          "name": "stdout",
          "text": [
            "[1.]\n"
          ]
        }
      ]
    },
    {
      "cell_type": "markdown",
      "source": [
        "예측이 제대로 된 모습이며, 다시 이웃끼리의 거리를 확인하자"
      ],
      "metadata": {
        "id": "46YXQpSOWxKq"
      }
    },
    {
      "cell_type": "code",
      "source": [
        "distances, indexes = kn.kneighbors([new])"
      ],
      "metadata": {
        "id": "hldFaNvxWz_v"
      },
      "execution_count": null,
      "outputs": []
    },
    {
      "cell_type": "code",
      "source": [
        "plt.scatter(train_scaled[:,0], train_scaled[:,1])\n",
        "plt.scatter(new[0], new[1], marker='^')\n",
        "plt.scatter(train_scaled[indexes,0], train_scaled[indexes,1], marker='D')\n",
        "plt.xlabel('length')\n",
        "plt.ylabel('weight')\n",
        "plt.show()"
      ],
      "metadata": {
        "colab": {
          "base_uri": "https://localhost:8080/",
          "height": 449
        },
        "id": "xUucjzzzXIuo",
        "outputId": "809748fe-3401-452d-bfbc-569b2448344c"
      },
      "execution_count": null,
      "outputs": [
        {
          "output_type": "display_data",
          "data": {
            "text/plain": [
              "<Figure size 640x480 with 1 Axes>"
            ],
            "image/png": "[encoded data removed]"
          },
          "metadata": {}
        }
      ]
    },
    {
      "cell_type": "markdown",
      "source": [
        "위 산점도와 같이, 도미로 제대로 예측이 된다.\n"
      ],
      "metadata": {
        "id": "UjD38fb1XMEd"
      }
    }
  ]
}