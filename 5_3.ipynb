{
  "nbformat": 4,
  "nbformat_minor": 0,
  "metadata": {
    "colab": {
      "provenance": [],
      "authorship_tag": "ABX9TyOdKsmD24C+AhlzxdyaIJTV",
      "include_colab_link": true
    },
    "kernelspec": {
      "name": "python3",
      "display_name": "Python 3"
    },
    "language_info": {
      "name": "python"
    }
  },
  "cells": [
    {
      "cell_type": "markdown",
      "metadata": {
        "id": "view-in-github",
        "colab_type": "text"
      },
      "source": [
        "<a href=\"https://colab.research.google.com/github/KimuYounguWoo/machine-learning-programming/blob/main/5_3.ipynb\" target=\"_parent\"><img src=\"https://colab.research.google.com/assets/colab-badge.svg\" alt=\"Open In Colab\"/></a>"
      ]
    },
    {
      "cell_type": "markdown",
      "source": [
        "# 5-3 트리의 앙상블\n",
        "## 목표\n",
        "1. 앙상블 학습에 대한 이해\n",
        "2. 다양한 앙상블 학습 알고리즘 실습"
      ],
      "metadata": {
        "id": "MrRjUf80hsFw"
      }
    },
    {
      "cell_type": "markdown",
      "source": [
        "## 랜덤포레스트\n",
        "앙상블 학습의 하나로 안정적인 성능으로 여러 방면에서 사용됩니다.\n",
        "<br>결정 트리를 랜덤하게 만들어, 그 트리들로 '숲'을 만들고, 그 트리들의 예측을 이용해 최종 예측을 만듭니다."
      ],
      "metadata": {
        "id": "RLQNNjqFht0C"
      }
    },
    {
      "cell_type": "markdown",
      "source": [
        "부트스트랩 방식으로 트리를 만드는데, 부트스트랩 방식이란, 데이터를 중복을 허용하여 샘플링합니다.\n",
        "<br>"
      ],
      "metadata": {
        "id": "HhzSYkkkrxEY"
      }
    },
    {
      "cell_type": "markdown",
      "source": [
        "또한, 분류는 특성을 특성 개수의 제곱근 만큼 사용하고, 회귀는 전체 특성을 사용합니다."
      ],
      "metadata": {
        "id": "1zblc_Wkr_OF"
      }
    },
    {
      "cell_type": "code",
      "execution_count": 3,
      "metadata": {
        "id": "xpZQvnJwhcE1"
      },
      "outputs": [],
      "source": [
        "import numpy as np\n",
        "import pandas as pd\n",
        "from sklearn.model_selection import train_test_split\n",
        "\n",
        "wine = pd.read_csv('https://bit.ly/wine_csv_data')\n",
        "\n",
        "data = wine[['alcohol', 'sugar', 'pH']].to_numpy()\n",
        "target = wine['class'].to_numpy()\n",
        "\n",
        "train_input, test_input, train_target, test_target = train_test_split(data, target, test_size=0.2, random_state=42)"
      ]
    },
    {
      "cell_type": "code",
      "source": [
        "from sklearn.model_selection import cross_validate\n",
        "from sklearn.ensemble import RandomForestClassifier\n",
        "\n",
        "rf = RandomForestClassifier(n_jobs=-1, random_state=42)\n",
        "scores = cross_validate(rf, train_input, train_target, return_train_score=True, n_jobs=-1)\n",
        "\n",
        "print(np.mean(scores['train_score']), np.mean(scores['test_score']))"
      ],
      "metadata": {
        "id": "AheTU6UDiHcF",
        "colab": {
          "base_uri": "https://localhost:8080/"
        },
        "outputId": "82cd975b-f57e-4d51-dfe7-f09ce6c6a7e3"
      },
      "execution_count": 4,
      "outputs": [
        {
          "output_type": "stream",
          "name": "stdout",
          "text": [
            "0.9973541965122431 0.8905151032797809\n"
          ]
        }
      ]
    },
    {
      "cell_type": "code",
      "source": [
        "rf.fit(train_input, train_target)\n",
        "print(rf.feature_importances_)"
      ],
      "metadata": {
        "id": "24sVwrF1iVaM",
        "colab": {
          "base_uri": "https://localhost:8080/"
        },
        "outputId": "83987ff4-26a2-4210-9a82-e44063d39fe8"
      },
      "execution_count": 5,
      "outputs": [
        {
          "output_type": "stream",
          "name": "stdout",
          "text": [
            "[0.23167441 0.50039841 0.26792718]\n"
          ]
        }
      ]
    },
    {
      "cell_type": "markdown",
      "source": [
        "이전 결정트리보다 중요도가 고루 분포해있는데, 그 이유는 랜덤 포레스트는 특성의 일부를 랜덤하게 선택하여, 훈련하기에 더 많은 특성이 관여할 기회를 줍니다"
      ],
      "metadata": {
        "id": "5q_na97SsaWj"
      }
    },
    {
      "cell_type": "code",
      "source": [
        "sub_input, val_input, sub_target, val_target = train_test_split(\n",
        "    train_input, train_target, test_size=0.2, random_state=42)"
      ],
      "metadata": {
        "id": "a7Vvq2E-iXFA"
      },
      "execution_count": 6,
      "outputs": []
    },
    {
      "cell_type": "code",
      "source": [
        "rf = RandomForestClassifier(oob_score=True, n_jobs=-1, random_state=42)\n",
        "\n",
        "rf.fit(train_input, train_target)\n",
        "print(rf.oob_score_)"
      ],
      "metadata": {
        "colab": {
          "base_uri": "https://localhost:8080/"
        },
        "id": "codP_2VMsRBj",
        "outputId": "c64052a1-4e64-4ba7-ace5-b2cbeaa76e46"
      },
      "execution_count": 7,
      "outputs": [
        {
          "output_type": "stream",
          "name": "stdout",
          "text": [
            "0.8934000384837406\n"
          ]
        }
      ]
    },
    {
      "cell_type": "markdown",
      "source": [
        "OOB는 검증 세트와 비슷하게, 부트스트랩 샘플이 아닌 남는 샘플을 이용하여 점수는 얻어줍니다. 이를 사용하면, 교차 검증을 대신할 수 있어 결과적으로 더 많은 샘플을 훈련에 사용합니다."
      ],
      "metadata": {
        "id": "yz6QptERsk3h"
      }
    },
    {
      "cell_type": "markdown",
      "source": [
        "### 엑스트라 트리\n",
        "엑스트라 트리는 램덤 포레스트와 매우 비슷합니다. 대신 결정 트리에서 노드가 분기할 때, 그 노드의 분기를 랜덤으로 합니다. 그렇기에 성능은 낮아지지만, 과대적합을 막고 검증 세트의 점수를 높입니다"
      ],
      "metadata": {
        "id": "D07nzCuJs3nB"
      }
    },
    {
      "cell_type": "markdown",
      "source": [
        "훈련 세트는 60, 검증 세트는 20, 테스트 테스틑 20으로 분할해준다."
      ],
      "metadata": {
        "id": "H6ikUFjjiWsH"
      }
    },
    {
      "cell_type": "code",
      "source": [
        "from sklearn.ensemble import ExtraTreesClassifier\n",
        "\n",
        "et = ExtraTreesClassifier(n_jobs=-1, random_state=42)\n",
        "scores = cross_validate(et, train_input, train_target, return_train_score=True, n_jobs=-1)\n",
        "\n",
        "print(np.mean(scores['train_score']), np.mean(scores['test_score']))"
      ],
      "metadata": {
        "id": "wqVtajCNie-9",
        "colab": {
          "base_uri": "https://localhost:8080/"
        },
        "outputId": "8ee8d1e8-1f98-4e33-dada-5f195ce75429"
      },
      "execution_count": 8,
      "outputs": [
        {
          "output_type": "stream",
          "name": "stdout",
          "text": [
            "0.9974503966084433 0.8887848893166506\n"
          ]
        }
      ]
    },
    {
      "cell_type": "code",
      "source": [
        "et.fit(train_input, train_target)\n",
        "print(et.feature_importances_)"
      ],
      "metadata": {
        "colab": {
          "base_uri": "https://localhost:8080/"
        },
        "id": "VQuavKf9tEj8",
        "outputId": "5387956c-ef6d-4aac-c7b2-383fc25c323f"
      },
      "execution_count": 9,
      "outputs": [
        {
          "output_type": "stream",
          "name": "stdout",
          "text": [
            "[0.20183568 0.52242907 0.27573525]\n"
          ]
        }
      ]
    },
    {
      "cell_type": "markdown",
      "source": [
        "특성이 많지 않아 두 모델의 차이가 크지 않지만, 랜덤 분할이기에 속도가 빠릅니다."
      ],
      "metadata": {
        "id": "XHPdAg3Viggb"
      }
    },
    {
      "cell_type": "markdown",
      "source": [
        "### 그레디언트 부스팅\n",
        "깊이가 얕은 결정 트리를 사용하여, 이전 트리의 오차를 보완하는 방식으로 깊이가 얕기에 과대적합에 강하고, 높은 일반화 성능을 줍니다."
      ],
      "metadata": {
        "id": "QNTiNHWOikiW"
      }
    },
    {
      "cell_type": "code",
      "source": [
        "from sklearn.ensemble import GradientBoostingClassifier\n",
        "\n",
        "gb = GradientBoostingClassifier(random_state=42)\n",
        "scores = cross_validate(gb, train_input, train_target, return_train_score=True, n_jobs=-1)\n",
        "\n",
        "print(np.mean(scores['train_score']), np.mean(scores['test_score']))"
      ],
      "metadata": {
        "colab": {
          "base_uri": "https://localhost:8080/"
        },
        "id": "OTI2EPShina1",
        "outputId": "15102ebd-ea38-40ec-e85f-0599ce1e206b"
      },
      "execution_count": 10,
      "outputs": [
        {
          "output_type": "stream",
          "name": "stdout",
          "text": [
            "0.8881086892152563 0.8720430147331015\n"
          ]
        }
      ]
    },
    {
      "cell_type": "code",
      "source": [
        "gb = GradientBoostingClassifier(n_estimators=500, learning_rate=0.2, random_state=42)\n",
        "scores = cross_validate(gb, train_input, train_target, return_train_score=True, n_jobs=-1)\n",
        "\n",
        "print(np.mean(scores['train_score']), np.mean(scores['test_score']))\n",
        "\n",
        "print(np.mean(scores['test_score']))"
      ],
      "metadata": {
        "colab": {
          "base_uri": "https://localhost:8080/"
        },
        "id": "5pbohnUoioZi",
        "outputId": "e9b4232d-475d-4473-bde0-54b8ee498c78"
      },
      "execution_count": 12,
      "outputs": [
        {
          "output_type": "stream",
          "name": "stdout",
          "text": [
            "0.9464595437171814 0.8780082549788999\n",
            "0.8780082549788999\n"
          ]
        }
      ]
    },
    {
      "cell_type": "code",
      "source": [
        "gb.fit(train_input, train_target)\n",
        "print(gb.feature_importances_)"
      ],
      "metadata": {
        "colab": {
          "base_uri": "https://localhost:8080/"
        },
        "id": "y8MEDUefuXC4",
        "outputId": "05bfb705-b6e0-4d7d-ed6b-074b96172885"
      },
      "execution_count": 13,
      "outputs": [
        {
          "output_type": "stream",
          "name": "stdout",
          "text": [
            "[0.15872278 0.68010884 0.16116839]\n"
          ]
        }
      ]
    },
    {
      "cell_type": "markdown",
      "source": [
        "트리의 개수와 학습률을 늘려도, 과대적합에 강하기에 성능 향상의 여지가 존재합니다."
      ],
      "metadata": {
        "id": "NY4GcGXAuhS2"
      }
    },
    {
      "cell_type": "markdown",
      "source": [
        "### 히스토그램 기반 그레디언트 부스팅\n",
        "HGBC는 입력 특성을 256개 구간으로 나누어, 최적의 분할을 빠르게 찾고, 누락된 값을 위한 구간을 나누어 놓아 전처리를 할 필요가 없다는 특징이 있습니다.<BR>\n",
        "또한 트리의 개수를 지정하는 대신, max_iter로 부스팅 반복 횟수를 지정하여 사용합니다."
      ],
      "metadata": {
        "id": "GJoykaY-np6N"
      }
    },
    {
      "cell_type": "code",
      "source": [
        "from sklearn.ensemble import HistGradientBoostingClassifier\n",
        "\n",
        "hgb = HistGradientBoostingClassifier(random_state=42)\n",
        "scores = cross_validate(hgb, train_input, train_target, return_train_score=True, n_jobs=-1)\n",
        "\n",
        "print(np.mean(scores['train_score']), np.mean(scores['test_score']))"
      ],
      "metadata": {
        "colab": {
          "base_uri": "https://localhost:8080/"
        },
        "id": "Aiky4Oden02x",
        "outputId": "2f0542bb-4241-45ba-f59b-105fdf98ca26"
      },
      "execution_count": 14,
      "outputs": [
        {
          "output_type": "stream",
          "name": "stdout",
          "text": [
            "0.9321723946453317 0.8801241948619236\n"
          ]
        }
      ]
    },
    {
      "cell_type": "code",
      "source": [
        "from sklearn.inspection import permutation_importance\n",
        "\n",
        "hgb.fit(train_input, train_target)\n",
        "result = permutation_importance(hgb, train_input, train_target, n_repeats=10,\n",
        "                                random_state=42, n_jobs=-1)\n",
        "print(result.importances_mean)"
      ],
      "metadata": {
        "colab": {
          "base_uri": "https://localhost:8080/"
        },
        "id": "_BngmtT2vEFR",
        "outputId": "9c3a6110-d4b0-4625-cb3e-9db98e5dc9ed"
      },
      "execution_count": 15,
      "outputs": [
        {
          "output_type": "stream",
          "name": "stdout",
          "text": [
            "[0.08876275 0.23438522 0.08027708]\n"
          ]
        }
      ]
    },
    {
      "cell_type": "markdown",
      "source": [
        "HGBC는 특성 중요도를 계산하기 위해, permutation_importance를 사용합니다. 이 함수는 특성을 하나씩 랜덤하게 섞어 모델의 변화를 관찰하여 어떤 특성이 중요한 지를 계산합니다.\n",
        "```\n",
        "n_repeats = 랜덤으로 섞을 횟수\n",
        "```를 지정합니다"
      ],
      "metadata": {
        "id": "oVOTexL-vK62"
      }
    },
    {
      "cell_type": "code",
      "source": [
        "result = permutation_importance(hgb, test_input, test_target, n_repeats=10,\n",
        "                                random_state=42, n_jobs=-1)\n",
        "print(result.importances_mean)"
      ],
      "metadata": {
        "colab": {
          "base_uri": "https://localhost:8080/"
        },
        "id": "3j0d5r0MvFaN",
        "outputId": "364923f3-cde8-4115-ad96-3c4693a0a98d"
      },
      "execution_count": 16,
      "outputs": [
        {
          "output_type": "stream",
          "name": "stdout",
          "text": [
            "[0.05969231 0.20238462 0.049     ]\n"
          ]
        }
      ]
    },
    {
      "cell_type": "markdown",
      "source": [
        "평균 말고도, 표준 표차도 알 수 있습니다."
      ],
      "metadata": {
        "id": "MherSDarvbza"
      }
    },
    {
      "cell_type": "code",
      "source": [
        "hgb.score(test_input, test_target)"
      ],
      "metadata": {
        "colab": {
          "base_uri": "https://localhost:8080/"
        },
        "id": "x2ay4VSyvGVd",
        "outputId": "216e5ced-389e-4963-fd17-7e01a440e379"
      },
      "execution_count": 17,
      "outputs": [
        {
          "output_type": "execute_result",
          "data": {
            "text/plain": [
              "0.8723076923076923"
            ]
          },
          "metadata": {},
          "execution_count": 17
        }
      ]
    },
    {
      "cell_type": "markdown",
      "source": [
        "### HGB와 같은 알고리즘을 가지는 라이브러리\n",
        "1. XGboost\n",
        "2. LightGBM"
      ],
      "metadata": {
        "id": "TDKRHPAli4M7"
      }
    },
    {
      "cell_type": "code",
      "source": [
        "from xgboost import XGBClassifier\n",
        "\n",
        "xgb = XGBClassifier(tree_method='hist', random_state=42)\n",
        "scores = cross_validate(xgb, train_input, train_target, return_train_score=True, n_jobs=-1)\n",
        "\n",
        "print(np.mean(scores['train_score']), np.mean(scores['test_score']))"
      ],
      "metadata": {
        "colab": {
          "base_uri": "https://localhost:8080/"
        },
        "id": "BxDJGdGjv048",
        "outputId": "4b40a23a-e44c-402d-d208-3d41425c635d"
      },
      "execution_count": 18,
      "outputs": [
        {
          "output_type": "stream",
          "name": "stdout",
          "text": [
            "0.9555033709953124 0.8799326275264677\n"
          ]
        }
      ]
    },
    {
      "cell_type": "code",
      "source": [
        "from lightgbm import LGBMClassifier\n",
        "\n",
        "lgb = LGBMClassifier(random_state=42)\n",
        "scores = cross_validate(lgb, train_input, train_target, return_train_score=True, n_jobs=-1)\n",
        "\n",
        "print(np.mean(scores['train_score']), np.mean(scores['test_score']))"
      ],
      "metadata": {
        "colab": {
          "base_uri": "https://localhost:8080/"
        },
        "id": "HXkfMMfLv1mb",
        "outputId": "af156240-58c1-4bd0-c491-ff87356cb55b"
      },
      "execution_count": 19,
      "outputs": [
        {
          "output_type": "stream",
          "name": "stdout",
          "text": [
            "0.935828414851749 0.8801251203079884\n"
          ]
        }
      ]
    },
    {
      "cell_type": "markdown",
      "source": [
        "이 라이브러리들도 위 비슷한 점수를 줍니다."
      ],
      "metadata": {
        "id": "V_rHU8m5v548"
      }
    }
  ]
}